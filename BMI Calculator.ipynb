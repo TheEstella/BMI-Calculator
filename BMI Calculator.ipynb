{
 "cells": [
  {
   "cell_type": "markdown",
   "id": "79b221a2-6fbe-44c2-9f34-46e886829a8d",
   "metadata": {},
   "source": [
    "# BMI CALCULATOR"
   ]
  },
  {
   "cell_type": "code",
   "execution_count": null,
   "id": "19902de0-7929-4b21-8e45-b79f3f38592c",
   "metadata": {
    "jp-MarkdownHeadingCollapsed": true
   },
   "outputs": [
    {
     "name": "stdin",
     "output_type": "stream",
     "text": [
      "Enter your name:  Stella\n"
     ]
    }
   ],
   "source": [
    "Name = input(\"Enter your name: \")\n",
    "Weight = float(input(\"Enter your weight in kilograms: \"))\n",
    "Height = float(input(\"Enter your height in inches: \"))\n",
    "BMI = weight / ((height / 39.37)**2)\n",
    " \n",
    "print(BMI)\n",
    "\n",
    "if BMI > 0:\n",
    "    if BMI < 18.5:\n",
    "        print(name + \",You are underweight\")\n",
    "    elif BMI < 24.9:\n",
    "        print(name + \",You have a healthy weight\")\n",
    "    elif BMI < 29.9:\n",
    "        print(name + \", You are over weight\")\n",
    "    elif BMI < 34.9:\n",
    "        print(name + \",You are in the Obesity Class I weight range\")\n",
    "    elif BMI < 39.9:\n",
    "        print(name + \",You are in the Obesity Class II weight range\")\n",
    "    elif BMI >=40:\n",
    "        print(name + \",You are in the Obesity Class III weight range\")\n"
   ]
  },
  {
   "cell_type": "code",
   "execution_count": null,
   "id": "c48d2cc4-5183-4e4e-8f6a-c1831129c38d",
   "metadata": {},
   "outputs": [],
   "source": [
    "\n",
    "Underweight: Less than 18.5.\n",
    "Healthy Weight: 18.5 to 24.9.\n",
    "Overweight: 25 to 29.9.\n",
    "Obesity Class I: 30 to 34.9.\n",
    "Obesity Class II: 35 to 39.9.\n",
    "Obesity Class III: 40 or greater. "
   ]
  }
 ],
 "metadata": {
  "kernelspec": {
   "display_name": "Python 3 (ipykernel)",
   "language": "python",
   "name": "python3"
  },
  "language_info": {
   "codemirror_mode": {
    "name": "ipython",
    "version": 3
   },
   "file_extension": ".py",
   "mimetype": "text/x-python",
   "name": "python",
   "nbconvert_exporter": "python",
   "pygments_lexer": "ipython3",
   "version": "3.12.7"
  }
 },
 "nbformat": 4,
 "nbformat_minor": 5
}
